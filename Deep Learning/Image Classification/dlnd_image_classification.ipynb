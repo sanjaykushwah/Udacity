{
 "cells": [
  {
   "cell_type": "markdown",
   "metadata": {
    "collapsed": true
   },
   "source": [
    "# Image Classification\n",
    "In this project, you'll classify images from the [CIFAR-10 dataset](https://www.cs.toronto.edu/~kriz/cifar.html).  The dataset consists of airplanes, dogs, cats, and other objects. You'll preprocess the images, then train a convolutional neural network on all the samples. The images need to be normalized and the labels need to be one-hot encoded.  You'll get to apply what you learned and build a convolutional, max pooling, dropout, and fully connected layers.  At the end, you'll get to see your neural network's predictions on the sample images.\n",
    "## Get the Data\n",
    "Run the following cell to download the [CIFAR-10 dataset for python](https://www.cs.toronto.edu/~kriz/cifar-10-python.tar.gz)."
   ]
  },
  {
   "cell_type": "code",
   "execution_count": 1,
   "metadata": {},
   "outputs": [
    {
     "name": "stderr",
     "output_type": "stream",
     "text": [
      "CIFAR-10 Dataset: 171MB [12:29, 227KB/s]                                \n"
     ]
    },
    {
     "name": "stdout",
     "output_type": "stream",
     "text": [
      "All files found!\n"
     ]
    }
   ],
   "source": [
    "\"\"\"\n",
    "DON'T MODIFY ANYTHING IN THIS CELL THAT IS BELOW THIS LINE\n",
    "\"\"\"\n",
    "from urllib.request import urlretrieve\n",
    "from os.path import isfile, isdir\n",
    "from tqdm import tqdm\n",
    "import problem_unittests as tests\n",
    "import tarfile\n",
    "\n",
    "cifar10_dataset_folder_path = 'cifar-10-batches-py'\n",
    "\n",
    "# Use Floyd's cifar-10 dataset if present\n",
    "floyd_cifar10_location = '/cifar/cifar-10-python.tar.gz'\n",
    "if isfile(floyd_cifar10_location):\n",
    "    tar_gz_path = floyd_cifar10_location\n",
    "else:\n",
    "    tar_gz_path = 'cifar-10-python.tar.gz'\n",
    "\n",
    "class DLProgress(tqdm):\n",
    "    last_block = 0\n",
    "\n",
    "    def hook(self, block_num=1, block_size=1, total_size=None):\n",
    "        self.total = total_size\n",
    "        self.update((block_num - self.last_block) * block_size)\n",
    "        self.last_block = block_num\n",
    "\n",
    "if not isfile(tar_gz_path):\n",
    "    with DLProgress(unit='B', unit_scale=True, miniters=1, desc='CIFAR-10 Dataset') as pbar:\n",
    "        urlretrieve(\n",
    "            'https://www.cs.toronto.edu/~kriz/cifar-10-python.tar.gz',\n",
    "            tar_gz_path,\n",
    "            pbar.hook)\n",
    "\n",
    "if not isdir(cifar10_dataset_folder_path):\n",
    "    with tarfile.open(tar_gz_path) as tar:\n",
    "        tar.extractall()\n",
    "        tar.close()\n",
    "\n",
    "\n",
    "tests.test_folder_path(cifar10_dataset_folder_path)"
   ]
  },
  {
   "cell_type": "markdown",
   "metadata": {},
   "source": [
    "## Explore the Data\n",
    "The dataset is broken into batches to prevent your machine from running out of memory.  The CIFAR-10 dataset consists of 5 batches, named `data_batch_1`, `data_batch_2`, etc.. Each batch contains the labels and images that are one of the following:\n",
    "* airplane\n",
    "* automobile\n",
    "* bird\n",
    "* cat\n",
    "* deer\n",
    "* dog\n",
    "* frog\n",
    "* horse\n",
    "* ship\n",
    "* truck\n",
    "\n",
    "Understanding a dataset is part of making predictions on the data.  Play around with the code cell below by changing the `batch_id` and `sample_id`. The `batch_id` is the id for a batch (1-5). The `sample_id` is the id for a image and label pair in the batch.\n",
    "\n",
    "Ask yourself \"What are all possible labels?\", \"What is the range of values for the image data?\", \"Are the labels in order or random?\".  Answers to questions like these will help you preprocess the data and end up with better predictions."
   ]
  },
  {
   "cell_type": "code",
   "execution_count": 2,
   "metadata": {},
   "outputs": [
    {
     "name": "stdout",
     "output_type": "stream",
     "text": [
      "\n",
      "Stats of batch 1:\n",
      "Samples: 10000\n",
      "Label Counts: {0: 1005, 1: 974, 2: 1032, 3: 1016, 4: 999, 5: 937, 6: 1030, 7: 1001, 8: 1025, 9: 981}\n",
      "First 20 Labels: [6, 9, 9, 4, 1, 1, 2, 7, 8, 3, 4, 7, 7, 2, 9, 9, 9, 3, 2, 6]\n",
      "\n",
      "Example of Image 5:\n",
      "Image - Min Value: 0 Max Value: 252\n",
      "Image - Shape: (32, 32, 3)\n",
      "Label - Label Id: 1 Name: automobile\n"
     ]
    },
    {
     "data": {
      "image/png": "[encoded data removed]",
      "text/plain": [
       "<matplotlib.figure.Figure at 0x115b32518>"
      ]
     },
     "metadata": {
      "image/png": {
       "height": 250,
       "width": 253
      }
     },
     "output_type": "display_data"
    }
   ],
   "source": [
    "%matplotlib inline\n",
    "%config InlineBackend.figure_format = 'retina'\n",
    "\n",
    "import helper\n",
    "import numpy as np\n",
    "\n",
    "# Explore the dataset\n",
    "batch_id = 1\n",
    "sample_id = 5\n",
    "helper.display_stats(cifar10_dataset_folder_path, batch_id, sample_id)"
   ]
  },
  {
   "cell_type": "markdown",
   "metadata": {},
   "source": [
    "## Implement Preprocess Functions\n",
    "### Normalize\n",
    "In the cell below, implement the `normalize` function to take in image data, `x`, and return it as a normalized Numpy array. The values should be in the range of 0 to 1, inclusive.  The return object should be the same shape as `x`."
   ]
  },
  {
   "cell_type": "code",
   "execution_count": 3,
   "metadata": {},
   "outputs": [
    {
     "name": "stdout",
     "output_type": "stream",
     "text": [
      "Tests Passed\n"
     ]
    }
   ],
   "source": [
    "def normalize(x):\n",
    "    \"\"\"\n",
    "    Normalize a list of sample image data in the range of 0 to 1\n",
    "    : x: List of image data.  The image shape is (32, 32, 3)\n",
    "    : return: Numpy array of normalize data\n",
    "    \"\"\"\n",
    "    # TODO: Implement Function\n",
    "    return x/255.\n",
    "\n",
    "\n",
    "\"\"\"\n",
    "DON'T MODIFY ANYTHING IN THIS CELL THAT IS BELOW THIS LINE\n",
    "\"\"\"\n",
    "tests.test_normalize(normalize)"
   ]
  },
  {
   "cell_type": "markdown",
   "metadata": {},
   "source": [
    "### One-hot encode\n",
    "Just like the previous code cell, you'll be implementing a function for preprocessing.  This time, you'll implement the `one_hot_encode` function. The input, `x`, are a list of labels.  Implement the function to return the list of labels as One-Hot encoded Numpy array.  The possible values for labels are 0 to 9. The one-hot encoding function should return the same encoding for each value between each call to `one_hot_encode`.  Make sure to save the map of encodings outside the function.\n",
    "\n",
    "Hint: Don't reinvent the wheel."
   ]
  },
  {
   "cell_type": "code",
   "execution_count": 5,
   "metadata": {},
   "outputs": [
    {
     "name": "stdout",
     "output_type": "stream",
     "text": [
      "Tests Passed\n"
     ]
    }
   ],
   "source": [
    "from sklearn.preprocessing import OneHotEncoder\n",
    "\n",
    "def one_hot_encode(x):\n",
    "    \"\"\"\n",
    "    One hot encode a list of sample labels. Return a one-hot encoded vector for each label.\n",
    "    : x: List of sample Labels\n",
    "    : return: Numpy array of one-hot encoded labels\n",
    "    \"\"\"\n",
    "    # TODO: Implement Function\n",
    "    one_hot_encoder = OneHotEncoder(10, sparse=False)    \n",
    "    encodings =  one_hot_encoder.fit_transform(\n",
    "        np.array(x).reshape(-1, 1))\n",
    "    return encodings\n",
    "\n",
    "\n",
    "\"\"\"\n",
    "DON'T MODIFY ANYTHING IN THIS CELL THAT IS BELOW THIS LINE\n",
    "\"\"\"\n",
    "tests.test_one_hot_encode(one_hot_encode)"
   ]
  },
  {
   "cell_type": "markdown",
   "metadata": {},
   "source": [
    "### Randomize Data\n",
    "As you saw from exploring the data above, the order of the samples are randomized.  It doesn't hurt to randomize it again, but you don't need to for this dataset."
   ]
  },
  {
   "cell_type": "markdown",
   "metadata": {},
   "source": [
    "## Preprocess all the data and save it\n",
    "Running the code cell below will preprocess all the CIFAR-10 data and save it to file. The code below also uses 10% of the training data for validation."
   ]
  },
  {
   "cell_type": "code",
   "execution_count": 6,
   "metadata": {
    "collapsed": true
   },
   "outputs": [],
   "source": [
    "\"\"\"\n",
    "DON'T MODIFY ANYTHING IN THIS CELL\n",
    "\"\"\"\n",
    "# Preprocess Training, Validation, and Testing Data\n",
    "helper.preprocess_and_save_data(cifar10_dataset_folder_path, normalize, one_hot_encode)"
   ]
  },
  {
   "cell_type": "markdown",
   "metadata": {},
   "source": [
    "# Check Point\n",
    "This is your first checkpoint.  If you ever decide to come back to this notebook or have to restart the notebook, you can start from here.  The preprocessed data has been saved to disk."
   ]
  },
  {
   "cell_type": "code",
   "execution_count": 7,
   "metadata": {
    "collapsed": true
   },
   "outputs": [],
   "source": [
    "\"\"\"\n",
    "DON'T MODIFY ANYTHING IN THIS CELL\n",
    "\"\"\"\n",
    "import pickle\n",
    "import problem_unittests as tests\n",
    "import helper\n",
    "\n",
    "# Load the Preprocessed Validation data\n",
    "valid_features, valid_labels = pickle.load(open('preprocess_validation.p', mode='rb'))"
   ]
  },
  {
   "cell_type": "markdown",
   "metadata": {},
   "source": [
    "## Build the network\n",
    "For the neural network, you'll build each layer into a function.  Most of the code you've seen has been outside of functions. To test your code more thoroughly, we require that you put each layer in a function.  This allows us to give you better feedback and test for simple mistakes using our unittests before you submit your project.\n",
    "\n",
    ">**Note:** If you're finding it hard to dedicate enough time for this course each week, we've provided a small shortcut to this part of the project. In the next couple of problems, you'll have the option to use classes from the [TensorFlow Layers](https://www.tensorflow.org/api_docs/python/tf/layers) or [TensorFlow Layers (contrib)](https://www.tensorflow.org/api_guides/python/contrib.layers) packages to build each layer, except the layers you build in the \"Convolutional and Max Pooling Layer\" section.  TF Layers is similar to Keras's and TFLearn's abstraction to layers, so it's easy to pickup.\n",
    "\n",
    ">However, if you would like to get the most out of this course, try to solve all the problems _without_ using anything from the TF Layers packages. You **can** still use classes from other packages that happen to have the same name as ones you find in TF Layers! For example, instead of using the TF Layers version of the `conv2d` class, [tf.layers.conv2d](https://www.tensorflow.org/api_docs/python/tf/layers/conv2d), you would want to use the TF Neural Network version of `conv2d`, [tf.nn.conv2d](https://www.tensorflow.org/api_docs/python/tf/nn/conv2d). \n",
    "\n",
    "Let's begin!\n",
    "\n",
    "### Input\n",
    "The neural network needs to read the image data, one-hot encoded labels, and dropout keep probability. Implement the following functions\n",
    "* Implement `neural_net_image_input`\n",
    " * Return a [TF Placeholder](https://www.tensorflow.org/api_docs/python/tf/placeholder)\n",
    " * Set the shape using `image_shape` with batch size set to `None`.\n",
    " * Name the TensorFlow placeholder \"x\" using the TensorFlow `name` parameter in the [TF Placeholder](https://www.tensorflow.org/api_docs/python/tf/placeholder).\n",
    "* Implement `neural_net_label_input`\n",
    " * Return a [TF Placeholder](https://www.tensorflow.org/api_docs/python/tf/placeholder)\n",
    " * Set the shape using `n_classes` with batch size set to `None`.\n",
    " * Name the TensorFlow placeholder \"y\" using the TensorFlow `name` parameter in the [TF Placeholder](https://www.tensorflow.org/api_docs/python/tf/placeholder).\n",
    "* Implement `neural_net_keep_prob_input`\n",
    " * Return a [TF Placeholder](https://www.tensorflow.org/api_docs/python/tf/placeholder) for dropout keep probability.\n",
    " * Name the TensorFlow placeholder \"keep_prob\" using the TensorFlow `name` parameter in the [TF Placeholder](https://www.tensorflow.org/api_docs/python/tf/placeholder).\n",
    "\n",
    "These names will be used at the end of the project to load your saved model.\n",
    "\n",
    "Note: `None` for shapes in TensorFlow allow for a dynamic size."
   ]
  },
  {
   "cell_type": "code",
   "execution_count": 8,
   "metadata": {},
   "outputs": [
    {
     "name": "stdout",
     "output_type": "stream",
     "text": [
      "Image Input Tests Passed.\n",
      "Label Input Tests Passed.\n",
      "Keep Prob Tests Passed.\n"
     ]
    }
   ],
   "source": [
    "import tensorflow as tf\n",
    "\n",
    "def neural_net_image_input(image_shape):\n",
    "    \"\"\"\n",
    "    Return a Tensor for a batch of image input\n",
    "    : image_shape: Shape of the images\n",
    "    : return: Tensor for image input.\n",
    "    \"\"\"\n",
    "    # TODO: Implement Function\n",
    "    input = tf.placeholder(tf.float32, shape=[None, image_shape[0], image_shape[1], image_shape[2]], name='x')\n",
    "    return input\n",
    "\n",
    "\n",
    "def neural_net_label_input(n_classes):\n",
    "    \"\"\"\n",
    "    Return a Tensor for a batch of label input\n",
    "    : n_classes: Number of classes\n",
    "    : return: Tensor for label input.\n",
    "    \"\"\"\n",
    "    # TODO: Implement Function\n",
    "    label = tf.placeholder(tf.int32, shape=[None, n_classes], name='y')\n",
    "    return label\n",
    "\n",
    "\n",
    "def neural_net_keep_prob_input():\n",
    "    \"\"\"\n",
    "    Return a Tensor for keep probability\n",
    "    : return: Tensor for keep probability.\n",
    "    \"\"\"\n",
    "    # TODO: Implement Function\n",
    "    keep_prob = tf.placeholder(tf.float32, name='keep_prob')\n",
    "    return keep_prob\n",
    "\n",
    "\n",
    "\"\"\"\n",
    "DON'T MODIFY ANYTHING IN THIS CELL THAT IS BELOW THIS LINE\n",
    "\"\"\"\n",
    "tf.reset_default_graph()\n",
    "tests.test_nn_image_inputs(neural_net_image_input)\n",
    "tests.test_nn_label_inputs(neural_net_label_input)\n",
    "tests.test_nn_keep_prob_inputs(neural_net_keep_prob_input)"
   ]
  },
  {
   "cell_type": "markdown",
   "metadata": {},
   "source": [
    "### Convolution and Max Pooling Layer\n",
    "Convolution layers have a lot of success with images. For this code cell, you should implement the function `conv2d_maxpool` to apply convolution then max pooling:\n",
    "* Create the weight and bias using `conv_ksize`, `conv_num_outputs` and the shape of `x_tensor`.\n",
    "* Apply a convolution to `x_tensor` using weight and `conv_strides`.\n",
    " * We recommend you use same padding, but you're welcome to use any padding.\n",
    "* Add bias\n",
    "* Add a nonlinear activation to the convolution.\n",
    "* Apply Max Pooling using `pool_ksize` and `pool_strides`.\n",
    " * We recommend you use same padding, but you're welcome to use any padding.\n",
    "\n",
    "**Note:** You **can't** use [TensorFlow Layers](https://www.tensorflow.org/api_docs/python/tf/layers) or [TensorFlow Layers (contrib)](https://www.tensorflow.org/api_guides/python/contrib.layers) for **this** layer, but you can still use TensorFlow's [Neural Network](https://www.tensorflow.org/api_docs/python/tf/nn) package. You may still use the shortcut option for all the **other** layers."
   ]
  },
  {
   "cell_type": "code",
   "execution_count": 10,
   "metadata": {},
   "outputs": [
    {
     "name": "stdout",
     "output_type": "stream",
     "text": [
      "Tests Passed\n"
     ]
    }
   ],
   "source": [
    "def conv2d_maxpool(x_tensor, conv_num_outputs, conv_ksize, conv_strides, pool_ksize, pool_strides):\n",
    "    \"\"\"\n",
    "    Apply convolution then max pooling to x_tensor\n",
    "    :param x_tensor: TensorFlow Tensor\n",
    "    :param conv_num_outputs: Number of outputs for the convolutional layer\n",
    "    :param conv_ksize: kernal size 2-D Tuple for the convolutional layer\n",
    "    :param conv_strides: Stride 2-D Tuple for convolution\n",
    "    :param pool_ksize: kernal size 2-D Tuple for pool\n",
    "    :param pool_strides: Stride 2-D Tuple for pool\n",
    "    : return: A tensor that represents convolution and max pooling of x_tensor\n",
    "    \"\"\"\n",
    "    # Get the number of channels in the input tensor.\n",
    "    in_channels = x_tensor.get_shape()[3].value\n",
    "    # Define the weight and bias variable of the convolution.\n",
    "    bias = tf.Variable(tf.random_normal([conv_num_outputs]))\n",
    "    weight = tf.Variable(tf.random_normal([conv_ksize[0], conv_ksize[1], in_channels, conv_num_outputs]))\n",
    "    # Apply the convolution to the input.\n",
    "    output = tf.nn.conv2d(x_tensor, weight, [1, conv_strides[0], conv_strides[1], 1], padding='SAME')\n",
    "    # Add the bias.\n",
    "    output = tf.nn.bias_add(output, bias)\n",
    "    # Apply a the rectified-linear unit nonlinearity.\n",
    "    output = tf.nn.relu(output)\n",
    "    # Perform the max-pooling operation.\n",
    "    output = tf.nn.max_pool(output, [1, pool_ksize[0], pool_ksize[1], 1], [1, pool_strides[0], pool_strides[1], 1],\n",
    "                            padding='SAME')\n",
    "    return output\n",
    "\n",
    "\n",
    "\"\"\"\n",
    "DON'T MODIFY ANYTHING IN THIS CELL THAT IS BELOW THIS LINE\n",
    "\"\"\"\n",
    "tests.test_con_pool(conv2d_maxpool)"
   ]
  },
  {
   "cell_type": "markdown",
   "metadata": {},
   "source": [
    "### Flatten Layer\n",
    "Implement the `flatten` function to change the dimension of `x_tensor` from a 4-D tensor to a 2-D tensor.  The output should be the shape (*Batch Size*, *Flattened Image Size*). Shortcut option: you can use classes from the [TensorFlow Layers](https://www.tensorflow.org/api_docs/python/tf/layers) or [TensorFlow Layers (contrib)](https://www.tensorflow.org/api_guides/python/contrib.layers) packages for this layer. For more of a challenge, only use other TensorFlow packages."
   ]
  },
  {
   "cell_type": "code",
   "execution_count": 11,
   "metadata": {},
   "outputs": [
    {
     "name": "stdout",
     "output_type": "stream",
     "text": [
      "Tests Passed\n"
     ]
    }
   ],
   "source": [
    "def flatten(x_tensor):\n",
    "    \"\"\"\n",
    "    Flatten x_tensor to (Batch Size, Flattened Image Size)\n",
    "    : x_tensor: A tensor of size (Batch Size, ...), where ... are the image dimensions.\n",
    "    : return: A tensor of size (Batch Size, Flattened Image Size).\n",
    "    \"\"\"\n",
    "    # TODO: Implement Function\n",
    "    output = tf.contrib.layers.flatten(x_tensor)\n",
    "    return output\n",
    "\n",
    "\n",
    "\"\"\"\n",
    "DON'T MODIFY ANYTHING IN THIS CELL THAT IS BELOW THIS LINE\n",
    "\"\"\"\n",
    "tests.test_flatten(flatten)"
   ]
  },
  {
   "cell_type": "markdown",
   "metadata": {},
   "source": [
    "### Fully-Connected Layer\n",
    "Implement the `fully_conn` function to apply a fully connected layer to `x_tensor` with the shape (*Batch Size*, *num_outputs*). Shortcut option: you can use classes from the [TensorFlow Layers](https://www.tensorflow.org/api_docs/python/tf/layers) or [TensorFlow Layers (contrib)](https://www.tensorflow.org/api_guides/python/contrib.layers) packages for this layer. For more of a challenge, only use other TensorFlow packages."
   ]
  },
  {
   "cell_type": "code",
   "execution_count": 12,
   "metadata": {},
   "outputs": [
    {
     "name": "stdout",
     "output_type": "stream",
     "text": [
      "Tests Passed\n"
     ]
    }
   ],
   "source": [
    "def fully_conn(x_tensor, num_outputs):\n",
    "    \"\"\"\n",
    "    Apply a fully connected layer to x_tensor using weight and bias\n",
    "    : x_tensor: A 2-D tensor where the first dimension is batch size.\n",
    "    : num_outputs: The number of output that the new tensor should be.\n",
    "    : return: A 2-D tensor where the second dimension is num_outputs.\n",
    "    \"\"\"\n",
    "    # TODO: Implement Function\n",
    "    output = tf.contrib.layers.fully_connected(x_tensor, num_outputs, activation_fn=tf.nn.relu)\n",
    "    return output\n",
    "\n",
    "\n",
    "\"\"\"\n",
    "DON'T MODIFY ANYTHING IN THIS CELL THAT IS BELOW THIS LINE\n",
    "\"\"\"\n",
    "tests.test_fully_conn(fully_conn)"
   ]
  },
  {
   "cell_type": "markdown",
   "metadata": {},
   "source": [
    "### Output Layer\n",
    "Implement the `output` function to apply a fully connected layer to `x_tensor` with the shape (*Batch Size*, *num_outputs*). Shortcut option: you can use classes from the [TensorFlow Layers](https://www.tensorflow.org/api_docs/python/tf/layers) or [TensorFlow Layers (contrib)](https://www.tensorflow.org/api_guides/python/contrib.layers) packages for this layer. For more of a challenge, only use other TensorFlow packages.\n",
    "\n",
    "**Note:** Activation, softmax, or cross entropy should **not** be applied to this."
   ]
  },
  {
   "cell_type": "code",
   "execution_count": 13,
   "metadata": {},
   "outputs": [
    {
     "name": "stdout",
     "output_type": "stream",
     "text": [
      "Tests Passed\n"
     ]
    }
   ],
   "source": [
    "def output(x_tensor, num_outputs):\n",
    "    \"\"\"\n",
    "    Apply a output layer to x_tensor using weight and bias\n",
    "    : x_tensor: A 2-D tensor where the first dimension is batch size.\n",
    "    : num_outputs: The number of output that the new tensor should be.\n",
    "    : return: A 2-D tensor where the second dimension is num_outputs.\n",
    "    \"\"\"\n",
    "    output = tf.contrib.layers.fully_connected(x_tensor, num_outputs, activation_fn=None)\n",
    "    return output\n",
    "\n",
    "\n",
    "\"\"\"\n",
    "DON'T MODIFY ANYTHING IN THIS CELL THAT IS BELOW THIS LINE\n",
    "\"\"\"\n",
    "tests.test_output(output)"
   ]
  },
  {
   "cell_type": "markdown",
   "metadata": {},
   "source": [
    "### Create Convolutional Model\n",
    "Implement the function `conv_net` to create a convolutional neural network model. The function takes in a batch of images, `x`, and outputs logits.  Use the layers you created above to create this model:\n",
    "\n",
    "* Apply 1, 2, or 3 Convolution and Max Pool layers\n",
    "* Apply a Flatten Layer\n",
    "* Apply 1, 2, or 3 Fully Connected Layers\n",
    "* Apply an Output Layer\n",
    "* Return the output\n",
    "* Apply [TensorFlow's Dropout](https://www.tensorflow.org/api_docs/python/tf/nn/dropout) to one or more layers in the model using `keep_prob`. "
   ]
  },
  {
   "cell_type": "code",
   "execution_count": 14,
   "metadata": {},
   "outputs": [
    {
     "name": "stdout",
     "output_type": "stream",
     "text": [
      "Neural Network Built!\n"
     ]
    }
   ],
   "source": [
    "def conv_net(x, keep_prob):\n",
    "    \"\"\"\n",
    "    Create a convolutional neural network model\n",
    "    : x: Placeholder tensor that holds image data.\n",
    "    : keep_prob: Placeholder tensor that hold dropout keep probability.\n",
    "    : return: Tensor that represents logits\n",
    "    \"\"\"\n",
    "    # Apply 2 Convolution and Max Pool layers\n",
    "    net = conv2d_maxpool(x, 16, [3, 3], [1, 1], [2, 2], [2, 2])\n",
    "    net = tf.contrib.layers.batch_norm(net)\n",
    "    net = conv2d_maxpool(net, 32, [3, 3], [1, 1], [2, 2], [2, 2])\n",
    "    net = tf.contrib.layers.batch_norm(net)\n",
    "\n",
    "    # Apply a Flatten Layer\n",
    "    net = flatten(net)\n",
    "\n",
    "    # Apply 2, or 3 Fully Connected Layers with ReLU nonlinearity.\n",
    "    net = fully_conn(net, 256)\n",
    "    net = fully_conn(net, 256)\n",
    "    \n",
    "    # Apply a Dropout layer to the features that will be passed \n",
    "    # onto the output layer\n",
    "    net = tf.nn.dropout(net, keep_prob)\n",
    "\n",
    "    # Apply an Output Layer\n",
    "    net = output(net, 10)\n",
    "    \n",
    "    # Return output\n",
    "    return net\n",
    "\n",
    "\n",
    "\n",
    "\"\"\"\n",
    "DON'T MODIFY ANYTHING IN THIS CELL THAT IS BELOW THIS LINE\n",
    "\"\"\"\n",
    "\n",
    "##############################\n",
    "## Build the Neural Network ##\n",
    "##############################\n",
    "\n",
    "# Remove previous weights, bias, inputs, etc..\n",
    "tf.reset_default_graph()\n",
    "\n",
    "# Inputs\n",
    "x = neural_net_image_input((32, 32, 3))\n",
    "y = neural_net_label_input(10)\n",
    "keep_prob = neural_net_keep_prob_input()\n",
    "\n",
    "# Model\n",
    "logits = conv_net(x, keep_prob)\n",
    "\n",
    "# Name logits Tensor, so that is can be loaded from disk after training\n",
    "logits = tf.identity(logits, name='logits')\n",
    "\n",
    "# Loss and Optimizer\n",
    "cost = tf.reduce_mean(tf.nn.softmax_cross_entropy_with_logits(logits=logits, labels=y))\n",
    "optimizer = tf.train.AdamOptimizer().minimize(cost)\n",
    "\n",
    "# Accuracy\n",
    "correct_pred = tf.equal(tf.argmax(logits, 1), tf.argmax(y, 1))\n",
    "accuracy = tf.reduce_mean(tf.cast(correct_pred, tf.float32), name='accuracy')\n",
    "\n",
    "tests.test_conv_net(conv_net)"
   ]
  },
  {
   "cell_type": "markdown",
   "metadata": {},
   "source": [
    "## Train the Neural Network\n",
    "### Single Optimization\n",
    "Implement the function `train_neural_network` to do a single optimization.  The optimization should use `optimizer` to optimize in `session` with a `feed_dict` of the following:\n",
    "* `x` for image input\n",
    "* `y` for labels\n",
    "* `keep_prob` for keep probability for dropout\n",
    "\n",
    "This function will be called for each batch, so `tf.global_variables_initializer()` has already been called.\n",
    "\n",
    "Note: Nothing needs to be returned. This function is only optimizing the neural network."
   ]
  },
  {
   "cell_type": "code",
   "execution_count": 15,
   "metadata": {},
   "outputs": [
    {
     "name": "stdout",
     "output_type": "stream",
     "text": [
      "Tests Passed\n"
     ]
    }
   ],
   "source": [
    "def train_neural_network(session, optimizer, keep_probability, feature_batch, label_batch):\n",
    "    \"\"\"\n",
    "    Optimize the session on a batch of images and labels\n",
    "    : session: Current TensorFlow session\n",
    "    : optimizer: TensorFlow optimizer function\n",
    "    : keep_probability: keep probability\n",
    "    : feature_batch: Batch of Numpy image data\n",
    "    : label_batch: Batch of Numpy label data\n",
    "    \"\"\"\n",
    "    session.run(optimizer, feed_dict={x:feature_batch,\n",
    "                                      y:label_batch,\n",
    "                                      keep_prob:keep_probability})\n",
    "\n",
    "\n",
    "\"\"\"\n",
    "DON'T MODIFY ANYTHING IN THIS CELL THAT IS BELOW THIS LINE\n",
    "\"\"\"\n",
    "tests.test_train_nn(train_neural_network)"
   ]
  },
  {
   "cell_type": "markdown",
   "metadata": {},
   "source": [
    "### Show Stats\n",
    "Implement the function `print_stats` to print loss and validation accuracy.  Use the global variables `valid_features` and `valid_labels` to calculate validation accuracy.  Use a keep probability of `1.0` to calculate the loss and validation accuracy."
   ]
  },
  {
   "cell_type": "code",
   "execution_count": 16,
   "metadata": {
    "collapsed": true
   },
   "outputs": [],
   "source": [
    "def print_stats(session, feature_batch, label_batch, cost, accuracy):\n",
    "    \"\"\"\n",
    "    Print information about loss and validation accuracy\n",
    "    : session: Current TensorFlow session\n",
    "    : feature_batch: Batch of Numpy image data\n",
    "    : label_batch: Batch of Numpy label data\n",
    "    : cost: TensorFlow cost function\n",
    "    : accuracy: TensorFlow accuracy function\n",
    "    \"\"\"\n",
    "    cost = session.run(cost, feed_dict={x:feature_batch,\n",
    "                                        y:label_batch,\n",
    "                                        keep_prob:1.0})\n",
    "    validation_accuracy = session.run(accuracy, feed_dict={x:valid_features,\n",
    "                                                           y:valid_labels,\n",
    "                                                           keep_prob:1.0})\n",
    "    print('Cost %f | Validation Accuracy %f' % (cost, validation_accuracy))"
   ]
  },
  {
   "cell_type": "markdown",
   "metadata": {},
   "source": [
    "### Hyperparameters\n",
    "Tune the following parameters:\n",
    "* Set `epochs` to the number of iterations until the network stops learning or start overfitting\n",
    "* Set `batch_size` to the highest number that your machine has memory for.  Most people set them to common sizes of memory:\n",
    " * 64\n",
    " * 128\n",
    " * 256\n",
    " * ...\n",
    "* Set `keep_probability` to the probability of keeping a node using dropout"
   ]
  },
  {
   "cell_type": "code",
   "execution_count": 17,
   "metadata": {
    "collapsed": true
   },
   "outputs": [],
   "source": [
    "# TODO: Tune Parameters\n",
    "epochs = 50\n",
    "batch_size = 256\n",
    "keep_probability = 0.95"
   ]
  },
  {
   "cell_type": "markdown",
   "metadata": {},
   "source": [
    "### Train on a Single CIFAR-10 Batch\n",
    "Instead of training the neural network on all the CIFAR-10 batches of data, let's use a single batch. This should save time while you iterate on the model to get a better accuracy.  Once the final validation accuracy is 50% or greater, run the model on all the data in the next section."
   ]
  },
  {
   "cell_type": "code",
   "execution_count": 18,
   "metadata": {},
   "outputs": [
    {
     "name": "stdout",
     "output_type": "stream",
     "text": [
      "Checking the Training on a Single Batch...\n",
      "Epoch  1, CIFAR-10 Batch 1:  Cost 1.401209 | Validation Accuracy 0.445400\n",
      "Epoch  2, CIFAR-10 Batch 1:  Cost 0.539024 | Validation Accuracy 0.493000\n",
      "Epoch  3, CIFAR-10 Batch 1:  Cost 0.248641 | Validation Accuracy 0.509800\n",
      "Epoch  4, CIFAR-10 Batch 1:  Cost 0.133098 | Validation Accuracy 0.511600\n",
      "Epoch  5, CIFAR-10 Batch 1:  Cost 0.077211 | Validation Accuracy 0.505600\n",
      "Epoch  6, CIFAR-10 Batch 1:  Cost 0.069786 | Validation Accuracy 0.489000\n",
      "Epoch  7, CIFAR-10 Batch 1:  Cost 0.036229 | Validation Accuracy 0.499000\n",
      "Epoch  8, CIFAR-10 Batch 1:  Cost 0.028379 | Validation Accuracy 0.504000\n",
      "Epoch  9, CIFAR-10 Batch 1:  Cost 0.028962 | Validation Accuracy 0.501000\n",
      "Epoch 10, CIFAR-10 Batch 1:  Cost 0.029129 | Validation Accuracy 0.475200\n",
      "Epoch 11, CIFAR-10 Batch 1:  Cost 0.007955 | Validation Accuracy 0.528600\n",
      "Epoch 12, CIFAR-10 Batch 1:  Cost 0.010476 | Validation Accuracy 0.524600\n",
      "Epoch 13, CIFAR-10 Batch 1:  Cost 0.005560 | Validation Accuracy 0.518600\n",
      "Epoch 14, CIFAR-10 Batch 1:  Cost 0.004084 | Validation Accuracy 0.520800\n",
      "Epoch 15, CIFAR-10 Batch 1:  Cost 0.001661 | Validation Accuracy 0.538400\n",
      "Epoch 16, CIFAR-10 Batch 1:  Cost 0.001757 | Validation Accuracy 0.530000\n",
      "Epoch 17, CIFAR-10 Batch 1:  Cost 0.001794 | Validation Accuracy 0.528200\n",
      "Epoch 18, CIFAR-10 Batch 1:  Cost 0.003592 | Validation Accuracy 0.519000\n",
      "Epoch 19, CIFAR-10 Batch 1:  Cost 0.003159 | Validation Accuracy 0.517400\n",
      "Epoch 20, CIFAR-10 Batch 1:  Cost 0.003746 | Validation Accuracy 0.508600\n",
      "Epoch 21, CIFAR-10 Batch 1:  Cost 0.001928 | Validation Accuracy 0.513200\n",
      "Epoch 22, CIFAR-10 Batch 1:  Cost 0.004963 | Validation Accuracy 0.501400\n",
      "Epoch 23, CIFAR-10 Batch 1:  Cost 0.001107 | Validation Accuracy 0.517600\n",
      "Epoch 24, CIFAR-10 Batch 1:  Cost 0.000320 | Validation Accuracy 0.532400\n",
      "Epoch 25, CIFAR-10 Batch 1:  Cost 0.000783 | Validation Accuracy 0.532400\n",
      "Epoch 26, CIFAR-10 Batch 1:  Cost 0.000390 | Validation Accuracy 0.537400\n",
      "Epoch 27, CIFAR-10 Batch 1:  Cost 0.000306 | Validation Accuracy 0.536000\n",
      "Epoch 28, CIFAR-10 Batch 1:  Cost 0.000312 | Validation Accuracy 0.535600\n",
      "Epoch 29, CIFAR-10 Batch 1:  Cost 0.000170 | Validation Accuracy 0.535400\n",
      "Epoch 30, CIFAR-10 Batch 1:  Cost 0.000141 | Validation Accuracy 0.533800\n",
      "Epoch 31, CIFAR-10 Batch 1:  Cost 0.000129 | Validation Accuracy 0.535600\n",
      "Epoch 32, CIFAR-10 Batch 1:  Cost 0.000109 | Validation Accuracy 0.536400\n",
      "Epoch 33, CIFAR-10 Batch 1:  Cost 0.000081 | Validation Accuracy 0.539600\n",
      "Epoch 34, CIFAR-10 Batch 1:  Cost 0.000076 | Validation Accuracy 0.540800\n",
      "Epoch 35, CIFAR-10 Batch 1:  Cost 0.000078 | Validation Accuracy 0.538600\n",
      "Epoch 36, CIFAR-10 Batch 1:  Cost 0.000075 | Validation Accuracy 0.540000\n",
      "Epoch 37, CIFAR-10 Batch 1:  Cost 0.000074 | Validation Accuracy 0.539800\n",
      "Epoch 38, CIFAR-10 Batch 1:  Cost 0.000062 | Validation Accuracy 0.539000\n",
      "Epoch 39, CIFAR-10 Batch 1:  Cost 0.000059 | Validation Accuracy 0.539000\n",
      "Epoch 40, CIFAR-10 Batch 1:  Cost 0.000058 | Validation Accuracy 0.538200\n",
      "Epoch 41, CIFAR-10 Batch 1:  Cost 0.000056 | Validation Accuracy 0.540000\n",
      "Epoch 42, CIFAR-10 Batch 1:  Cost 0.000051 | Validation Accuracy 0.539800\n",
      "Epoch 43, CIFAR-10 Batch 1:  Cost 0.000050 | Validation Accuracy 0.540600\n",
      "Epoch 44, CIFAR-10 Batch 1:  Cost 0.000047 | Validation Accuracy 0.540800\n",
      "Epoch 45, CIFAR-10 Batch 1:  Cost 0.000046 | Validation Accuracy 0.541400\n",
      "Epoch 46, CIFAR-10 Batch 1:  Cost 0.000047 | Validation Accuracy 0.539200\n",
      "Epoch 47, CIFAR-10 Batch 1:  Cost 0.000044 | Validation Accuracy 0.539600\n",
      "Epoch 48, CIFAR-10 Batch 1:  Cost 0.000042 | Validation Accuracy 0.541800\n",
      "Epoch 49, CIFAR-10 Batch 1:  Cost 0.000037 | Validation Accuracy 0.538200\n",
      "Epoch 50, CIFAR-10 Batch 1:  Cost 0.000032 | Validation Accuracy 0.539000\n"
     ]
    }
   ],
   "source": [
    "\"\"\"\n",
    "DON'T MODIFY ANYTHING IN THIS CELL\n",
    "\"\"\"\n",
    "print('Checking the Training on a Single Batch...')\n",
    "with tf.Session() as sess:\n",
    "    # Initializing the variables\n",
    "    sess.run(tf.global_variables_initializer())\n",
    "    \n",
    "    # Training cycle\n",
    "    for epoch in range(epochs):\n",
    "        batch_i = 1\n",
    "        for batch_features, batch_labels in helper.load_preprocess_training_batch(batch_i, batch_size):\n",
    "            train_neural_network(sess, optimizer, keep_probability, batch_features, batch_labels)\n",
    "        print('Epoch {:>2}, CIFAR-10 Batch {}:  '.format(epoch + 1, batch_i), end='')\n",
    "        print_stats(sess, batch_features, batch_labels, cost, accuracy)"
   ]
  },
  {
   "cell_type": "markdown",
   "metadata": {},
   "source": [
    "### Fully Train the Model\n",
    "Now that you got a good accuracy with a single CIFAR-10 batch, try it with all five batches."
   ]
  },
  {
   "cell_type": "code",
   "execution_count": 19,
   "metadata": {},
   "outputs": [
    {
     "name": "stdout",
     "output_type": "stream",
     "text": [
      "Training...\n",
      "Epoch  1, CIFAR-10 Batch 1:  Cost 1.467926 | Validation Accuracy 0.462800\n",
      "Epoch  1, CIFAR-10 Batch 2:  Cost 1.026096 | Validation Accuracy 0.494200\n",
      "Epoch  1, CIFAR-10 Batch 3:  Cost 0.761290 | Validation Accuracy 0.525800\n",
      "Epoch  1, CIFAR-10 Batch 4:  Cost 0.893595 | Validation Accuracy 0.545600\n",
      "Epoch  1, CIFAR-10 Batch 5:  Cost 0.795458 | Validation Accuracy 0.560000\n",
      "Epoch  2, CIFAR-10 Batch 1:  Cost 0.703737 | Validation Accuracy 0.568200\n",
      "Epoch  2, CIFAR-10 Batch 2:  Cost 0.406274 | Validation Accuracy 0.569600\n",
      "Epoch  2, CIFAR-10 Batch 3:  Cost 0.235894 | Validation Accuracy 0.585600\n",
      "Epoch  2, CIFAR-10 Batch 4:  Cost 0.293381 | Validation Accuracy 0.598800\n",
      "Epoch  2, CIFAR-10 Batch 5:  Cost 0.237870 | Validation Accuracy 0.598800\n",
      "Epoch  3, CIFAR-10 Batch 1:  Cost 0.329012 | Validation Accuracy 0.592400\n",
      "Epoch  3, CIFAR-10 Batch 2:  Cost 0.144214 | Validation Accuracy 0.594200\n",
      "Epoch  3, CIFAR-10 Batch 3:  Cost 0.102013 | Validation Accuracy 0.611600\n",
      "Epoch  3, CIFAR-10 Batch 4:  Cost 0.132630 | Validation Accuracy 0.619800\n",
      "Epoch  3, CIFAR-10 Batch 5:  Cost 0.095097 | Validation Accuracy 0.612000\n",
      "Epoch  4, CIFAR-10 Batch 1:  Cost 0.145830 | Validation Accuracy 0.609200\n",
      "Epoch  4, CIFAR-10 Batch 2:  Cost 0.062729 | Validation Accuracy 0.610200\n",
      "Epoch  4, CIFAR-10 Batch 3:  Cost 0.063368 | Validation Accuracy 0.615400\n",
      "Epoch  4, CIFAR-10 Batch 4:  Cost 0.069767 | Validation Accuracy 0.618800\n",
      "Epoch  4, CIFAR-10 Batch 5:  Cost 0.043578 | Validation Accuracy 0.615200\n",
      "Epoch  5, CIFAR-10 Batch 1:  Cost 0.066248 | Validation Accuracy 0.618600\n",
      "Epoch  5, CIFAR-10 Batch 2:  Cost 0.038935 | Validation Accuracy 0.614800\n",
      "Epoch  5, CIFAR-10 Batch 3:  Cost 0.034160 | Validation Accuracy 0.614600\n",
      "Epoch  5, CIFAR-10 Batch 4:  Cost 0.040199 | Validation Accuracy 0.607800\n",
      "Epoch  5, CIFAR-10 Batch 5:  Cost 0.023021 | Validation Accuracy 0.626800\n",
      "Epoch  6, CIFAR-10 Batch 1:  Cost 0.031553 | Validation Accuracy 0.617400\n",
      "Epoch  6, CIFAR-10 Batch 2:  Cost 0.021772 | Validation Accuracy 0.619600\n",
      "Epoch  6, CIFAR-10 Batch 3:  Cost 0.019093 | Validation Accuracy 0.599400\n",
      "Epoch  6, CIFAR-10 Batch 4:  Cost 0.024550 | Validation Accuracy 0.619200\n",
      "Epoch  6, CIFAR-10 Batch 5:  Cost 0.022137 | Validation Accuracy 0.622800\n",
      "Epoch  7, CIFAR-10 Batch 1:  Cost 0.026584 | Validation Accuracy 0.605200\n",
      "Epoch  7, CIFAR-10 Batch 2:  Cost 0.011097 | Validation Accuracy 0.607400\n",
      "Epoch  7, CIFAR-10 Batch 3:  Cost 0.017953 | Validation Accuracy 0.598400\n",
      "Epoch  7, CIFAR-10 Batch 4:  Cost 0.020902 | Validation Accuracy 0.601600\n",
      "Epoch  7, CIFAR-10 Batch 5:  Cost 0.012717 | Validation Accuracy 0.626200\n",
      "Epoch  8, CIFAR-10 Batch 1:  Cost 0.018512 | Validation Accuracy 0.602600\n",
      "Epoch  8, CIFAR-10 Batch 2:  Cost 0.011844 | Validation Accuracy 0.601200\n",
      "Epoch  8, CIFAR-10 Batch 3:  Cost 0.011783 | Validation Accuracy 0.609600\n",
      "Epoch  8, CIFAR-10 Batch 4:  Cost 0.012288 | Validation Accuracy 0.617400\n",
      "Epoch  8, CIFAR-10 Batch 5:  Cost 0.013251 | Validation Accuracy 0.626000\n",
      "Epoch  9, CIFAR-10 Batch 1:  Cost 0.016400 | Validation Accuracy 0.608000\n",
      "Epoch  9, CIFAR-10 Batch 2:  Cost 0.013693 | Validation Accuracy 0.622000\n",
      "Epoch  9, CIFAR-10 Batch 3:  Cost 0.009623 | Validation Accuracy 0.615200\n",
      "Epoch  9, CIFAR-10 Batch 4:  Cost 0.013756 | Validation Accuracy 0.618400\n",
      "Epoch  9, CIFAR-10 Batch 5:  Cost 0.011164 | Validation Accuracy 0.617000\n",
      "Epoch 10, CIFAR-10 Batch 1:  Cost 0.016680 | Validation Accuracy 0.617200\n",
      "Epoch 10, CIFAR-10 Batch 2:  Cost 0.009781 | Validation Accuracy 0.622200\n",
      "Epoch 10, CIFAR-10 Batch 3:  Cost 0.006323 | Validation Accuracy 0.625600\n",
      "Epoch 10, CIFAR-10 Batch 4:  Cost 0.003664 | Validation Accuracy 0.629600\n",
      "Epoch 10, CIFAR-10 Batch 5:  Cost 0.004960 | Validation Accuracy 0.628600\n",
      "Epoch 11, CIFAR-10 Batch 1:  Cost 0.012241 | Validation Accuracy 0.601200\n",
      "Epoch 11, CIFAR-10 Batch 2:  Cost 0.004716 | Validation Accuracy 0.608200\n",
      "Epoch 11, CIFAR-10 Batch 3:  Cost 0.003621 | Validation Accuracy 0.635000\n",
      "Epoch 11, CIFAR-10 Batch 4:  Cost 0.004072 | Validation Accuracy 0.630600\n",
      "Epoch 11, CIFAR-10 Batch 5:  Cost 0.002526 | Validation Accuracy 0.624800\n",
      "Epoch 12, CIFAR-10 Batch 1:  Cost 0.004306 | Validation Accuracy 0.622000\n",
      "Epoch 12, CIFAR-10 Batch 2:  Cost 0.002379 | Validation Accuracy 0.618800\n",
      "Epoch 12, CIFAR-10 Batch 3:  Cost 0.003481 | Validation Accuracy 0.623800\n",
      "Epoch 12, CIFAR-10 Batch 4:  Cost 0.002196 | Validation Accuracy 0.633400\n",
      "Epoch 12, CIFAR-10 Batch 5:  Cost 0.005087 | Validation Accuracy 0.621400\n",
      "Epoch 13, CIFAR-10 Batch 1:  Cost 0.003367 | Validation Accuracy 0.629200\n",
      "Epoch 13, CIFAR-10 Batch 2:  Cost 0.002169 | Validation Accuracy 0.627800\n",
      "Epoch 13, CIFAR-10 Batch 3:  Cost 0.002642 | Validation Accuracy 0.630200\n",
      "Epoch 13, CIFAR-10 Batch 4:  Cost 0.001190 | Validation Accuracy 0.631000\n",
      "Epoch 13, CIFAR-10 Batch 5:  Cost 0.001082 | Validation Accuracy 0.626600\n",
      "Epoch 14, CIFAR-10 Batch 1:  Cost 0.001888 | Validation Accuracy 0.629000\n",
      "Epoch 14, CIFAR-10 Batch 2:  Cost 0.003715 | Validation Accuracy 0.630200\n",
      "Epoch 14, CIFAR-10 Batch 3:  Cost 0.001035 | Validation Accuracy 0.629000\n",
      "Epoch 14, CIFAR-10 Batch 4:  Cost 0.002093 | Validation Accuracy 0.622400\n",
      "Epoch 14, CIFAR-10 Batch 5:  Cost 0.001924 | Validation Accuracy 0.632400\n",
      "Epoch 15, CIFAR-10 Batch 1:  Cost 0.002127 | Validation Accuracy 0.629200\n",
      "Epoch 15, CIFAR-10 Batch 2:  Cost 0.001050 | Validation Accuracy 0.618800\n",
      "Epoch 15, CIFAR-10 Batch 3:  Cost 0.000797 | Validation Accuracy 0.623200\n",
      "Epoch 15, CIFAR-10 Batch 4:  Cost 0.001442 | Validation Accuracy 0.614600\n",
      "Epoch 15, CIFAR-10 Batch 5:  Cost 0.000922 | Validation Accuracy 0.614800\n",
      "Epoch 16, CIFAR-10 Batch 1:  Cost 0.002316 | Validation Accuracy 0.626800\n",
      "Epoch 16, CIFAR-10 Batch 2:  Cost 0.000490 | Validation Accuracy 0.633200\n",
      "Epoch 16, CIFAR-10 Batch 3:  Cost 0.000364 | Validation Accuracy 0.629200\n",
      "Epoch 16, CIFAR-10 Batch 4:  Cost 0.002216 | Validation Accuracy 0.611400\n",
      "Epoch 16, CIFAR-10 Batch 5:  Cost 0.001214 | Validation Accuracy 0.617600\n",
      "Epoch 17, CIFAR-10 Batch 1:  Cost 0.002968 | Validation Accuracy 0.627400\n",
      "Epoch 17, CIFAR-10 Batch 2:  Cost 0.001112 | Validation Accuracy 0.622800\n",
      "Epoch 17, CIFAR-10 Batch 3:  Cost 0.000256 | Validation Accuracy 0.623000\n",
      "Epoch 17, CIFAR-10 Batch 4:  Cost 0.000833 | Validation Accuracy 0.629400\n",
      "Epoch 17, CIFAR-10 Batch 5:  Cost 0.000988 | Validation Accuracy 0.631600\n",
      "Epoch 18, CIFAR-10 Batch 1:  Cost 0.003107 | Validation Accuracy 0.626600\n",
      "Epoch 18, CIFAR-10 Batch 2:  Cost 0.001063 | Validation Accuracy 0.623800\n",
      "Epoch 18, CIFAR-10 Batch 3:  Cost 0.000266 | Validation Accuracy 0.626400\n",
      "Epoch 18, CIFAR-10 Batch 4:  Cost 0.000349 | Validation Accuracy 0.625600\n",
      "Epoch 18, CIFAR-10 Batch 5:  Cost 0.001839 | Validation Accuracy 0.629200\n",
      "Epoch 19, CIFAR-10 Batch 1:  Cost 0.001780 | Validation Accuracy 0.619400\n",
      "Epoch 19, CIFAR-10 Batch 2:  Cost 0.001880 | Validation Accuracy 0.619800\n",
      "Epoch 19, CIFAR-10 Batch 3:  Cost 0.000368 | Validation Accuracy 0.625000\n",
      "Epoch 19, CIFAR-10 Batch 4:  Cost 0.000583 | Validation Accuracy 0.619400\n",
      "Epoch 19, CIFAR-10 Batch 5:  Cost 0.001191 | Validation Accuracy 0.629400\n",
      "Epoch 20, CIFAR-10 Batch 1:  Cost 0.001511 | Validation Accuracy 0.628200\n",
      "Epoch 20, CIFAR-10 Batch 2:  Cost 0.000982 | Validation Accuracy 0.620000\n",
      "Epoch 20, CIFAR-10 Batch 3:  Cost 0.001709 | Validation Accuracy 0.617000\n",
      "Epoch 20, CIFAR-10 Batch 4:  Cost 0.000859 | Validation Accuracy 0.625600\n",
      "Epoch 20, CIFAR-10 Batch 5:  Cost 0.002300 | Validation Accuracy 0.630000\n",
      "Epoch 21, CIFAR-10 Batch 1:  Cost 0.001116 | Validation Accuracy 0.625600\n",
      "Epoch 21, CIFAR-10 Batch 2:  Cost 0.000970 | Validation Accuracy 0.623600\n",
      "Epoch 21, CIFAR-10 Batch 3:  Cost 0.000469 | Validation Accuracy 0.622200\n",
      "Epoch 21, CIFAR-10 Batch 4:  Cost 0.000618 | Validation Accuracy 0.617400\n",
      "Epoch 21, CIFAR-10 Batch 5:  Cost 0.000214 | Validation Accuracy 0.630000\n",
      "Epoch 22, CIFAR-10 Batch 1:  Cost 0.001416 | Validation Accuracy 0.626600\n",
      "Epoch 22, CIFAR-10 Batch 2:  Cost 0.000444 | Validation Accuracy 0.618600\n",
      "Epoch 22, CIFAR-10 Batch 3:  Cost 0.000376 | Validation Accuracy 0.624400\n",
      "Epoch 22, CIFAR-10 Batch 4:  Cost 0.000633 | Validation Accuracy 0.622400\n",
      "Epoch 22, CIFAR-10 Batch 5:  Cost 0.000331 | Validation Accuracy 0.617400\n",
      "Epoch 23, CIFAR-10 Batch 1:  Cost 0.002432 | Validation Accuracy 0.622400\n"
     ]
    },
    {
     "name": "stdout",
     "output_type": "stream",
     "text": [
      "Epoch 23, CIFAR-10 Batch 2:  Cost 0.000708 | Validation Accuracy 0.622800\n",
      "Epoch 23, CIFAR-10 Batch 3:  Cost 0.000079 | Validation Accuracy 0.624400\n",
      "Epoch 23, CIFAR-10 Batch 4:  Cost 0.000345 | Validation Accuracy 0.626600\n",
      "Epoch 23, CIFAR-10 Batch 5:  Cost 0.001638 | Validation Accuracy 0.623200\n",
      "Epoch 24, CIFAR-10 Batch 1:  Cost 0.000101 | Validation Accuracy 0.626200\n",
      "Epoch 24, CIFAR-10 Batch 2:  Cost 0.000881 | Validation Accuracy 0.621600\n",
      "Epoch 24, CIFAR-10 Batch 3:  Cost 0.000248 | Validation Accuracy 0.630400\n",
      "Epoch 24, CIFAR-10 Batch 4:  Cost 0.000303 | Validation Accuracy 0.630000\n",
      "Epoch 24, CIFAR-10 Batch 5:  Cost 0.000123 | Validation Accuracy 0.627600\n",
      "Epoch 25, CIFAR-10 Batch 1:  Cost 0.000574 | Validation Accuracy 0.630800\n",
      "Epoch 25, CIFAR-10 Batch 2:  Cost 0.000257 | Validation Accuracy 0.618200\n",
      "Epoch 25, CIFAR-10 Batch 3:  Cost 0.000299 | Validation Accuracy 0.620000\n",
      "Epoch 25, CIFAR-10 Batch 4:  Cost 0.000294 | Validation Accuracy 0.626200\n",
      "Epoch 25, CIFAR-10 Batch 5:  Cost 0.000311 | Validation Accuracy 0.628600\n",
      "Epoch 26, CIFAR-10 Batch 1:  Cost 0.000525 | Validation Accuracy 0.629600\n",
      "Epoch 26, CIFAR-10 Batch 2:  Cost 0.000139 | Validation Accuracy 0.620800\n",
      "Epoch 26, CIFAR-10 Batch 3:  Cost 0.000222 | Validation Accuracy 0.626600\n",
      "Epoch 26, CIFAR-10 Batch 4:  Cost 0.000368 | Validation Accuracy 0.631400\n",
      "Epoch 26, CIFAR-10 Batch 5:  Cost 0.001381 | Validation Accuracy 0.613800\n",
      "Epoch 27, CIFAR-10 Batch 1:  Cost 0.002273 | Validation Accuracy 0.622600\n",
      "Epoch 27, CIFAR-10 Batch 2:  Cost 0.001214 | Validation Accuracy 0.622200\n",
      "Epoch 27, CIFAR-10 Batch 3:  Cost 0.000109 | Validation Accuracy 0.624000\n",
      "Epoch 27, CIFAR-10 Batch 4:  Cost 0.000505 | Validation Accuracy 0.626400\n",
      "Epoch 27, CIFAR-10 Batch 5:  Cost 0.000803 | Validation Accuracy 0.628800\n",
      "Epoch 28, CIFAR-10 Batch 1:  Cost 0.000283 | Validation Accuracy 0.627400\n",
      "Epoch 28, CIFAR-10 Batch 2:  Cost 0.000368 | Validation Accuracy 0.625600\n",
      "Epoch 28, CIFAR-10 Batch 3:  Cost 0.000137 | Validation Accuracy 0.624200\n",
      "Epoch 28, CIFAR-10 Batch 4:  Cost 0.000220 | Validation Accuracy 0.627000\n",
      "Epoch 28, CIFAR-10 Batch 5:  Cost 0.000302 | Validation Accuracy 0.625000\n",
      "Epoch 29, CIFAR-10 Batch 1:  Cost 0.000995 | Validation Accuracy 0.625400\n",
      "Epoch 29, CIFAR-10 Batch 2:  Cost 0.000617 | Validation Accuracy 0.627400\n",
      "Epoch 29, CIFAR-10 Batch 3:  Cost 0.000022 | Validation Accuracy 0.630000\n",
      "Epoch 29, CIFAR-10 Batch 4:  Cost 0.000260 | Validation Accuracy 0.628600\n",
      "Epoch 29, CIFAR-10 Batch 5:  Cost 0.000749 | Validation Accuracy 0.623600\n",
      "Epoch 30, CIFAR-10 Batch 1:  Cost 0.000673 | Validation Accuracy 0.619600\n",
      "Epoch 30, CIFAR-10 Batch 2:  Cost 0.000390 | Validation Accuracy 0.629200\n",
      "Epoch 30, CIFAR-10 Batch 3:  Cost 0.000141 | Validation Accuracy 0.624800\n",
      "Epoch 30, CIFAR-10 Batch 4:  Cost 0.000256 | Validation Accuracy 0.631000\n",
      "Epoch 30, CIFAR-10 Batch 5:  Cost 0.000313 | Validation Accuracy 0.632000\n",
      "Epoch 31, CIFAR-10 Batch 1:  Cost 0.000683 | Validation Accuracy 0.626400\n",
      "Epoch 31, CIFAR-10 Batch 2:  Cost 0.000897 | Validation Accuracy 0.628800\n",
      "Epoch 31, CIFAR-10 Batch 3:  Cost 0.002911 | Validation Accuracy 0.633000\n",
      "Epoch 31, CIFAR-10 Batch 4:  Cost 0.000111 | Validation Accuracy 0.636800\n",
      "Epoch 31, CIFAR-10 Batch 5:  Cost 0.000472 | Validation Accuracy 0.627000\n",
      "Epoch 32, CIFAR-10 Batch 1:  Cost 0.001448 | Validation Accuracy 0.628400\n",
      "Epoch 32, CIFAR-10 Batch 2:  Cost 0.000548 | Validation Accuracy 0.632000\n",
      "Epoch 32, CIFAR-10 Batch 3:  Cost 0.000138 | Validation Accuracy 0.637200\n",
      "Epoch 32, CIFAR-10 Batch 4:  Cost 0.000251 | Validation Accuracy 0.634200\n",
      "Epoch 32, CIFAR-10 Batch 5:  Cost 0.000486 | Validation Accuracy 0.633000\n",
      "Epoch 33, CIFAR-10 Batch 1:  Cost 0.000208 | Validation Accuracy 0.629400\n",
      "Epoch 33, CIFAR-10 Batch 2:  Cost 0.000078 | Validation Accuracy 0.633000\n",
      "Epoch 33, CIFAR-10 Batch 3:  Cost 0.000029 | Validation Accuracy 0.632400\n",
      "Epoch 33, CIFAR-10 Batch 4:  Cost 0.000377 | Validation Accuracy 0.634000\n",
      "Epoch 33, CIFAR-10 Batch 5:  Cost 0.000396 | Validation Accuracy 0.631400\n",
      "Epoch 34, CIFAR-10 Batch 1:  Cost 0.001739 | Validation Accuracy 0.632400\n",
      "Epoch 34, CIFAR-10 Batch 2:  Cost 0.000357 | Validation Accuracy 0.626000\n",
      "Epoch 34, CIFAR-10 Batch 3:  Cost 0.000322 | Validation Accuracy 0.629200\n",
      "Epoch 34, CIFAR-10 Batch 4:  Cost 0.000181 | Validation Accuracy 0.613800\n",
      "Epoch 34, CIFAR-10 Batch 5:  Cost 0.000146 | Validation Accuracy 0.625400\n",
      "Epoch 35, CIFAR-10 Batch 1:  Cost 0.000700 | Validation Accuracy 0.627800\n",
      "Epoch 35, CIFAR-10 Batch 2:  Cost 0.001970 | Validation Accuracy 0.627200\n",
      "Epoch 35, CIFAR-10 Batch 3:  Cost 0.000265 | Validation Accuracy 0.635600\n",
      "Epoch 35, CIFAR-10 Batch 4:  Cost 0.000822 | Validation Accuracy 0.627000\n",
      "Epoch 35, CIFAR-10 Batch 5:  Cost 0.000559 | Validation Accuracy 0.631800\n",
      "Epoch 36, CIFAR-10 Batch 1:  Cost 0.000238 | Validation Accuracy 0.632600\n",
      "Epoch 36, CIFAR-10 Batch 2:  Cost 0.000314 | Validation Accuracy 0.632400\n",
      "Epoch 36, CIFAR-10 Batch 3:  Cost 0.000068 | Validation Accuracy 0.634000\n",
      "Epoch 36, CIFAR-10 Batch 4:  Cost 0.000242 | Validation Accuracy 0.623600\n",
      "Epoch 36, CIFAR-10 Batch 5:  Cost 0.002039 | Validation Accuracy 0.631600\n",
      "Epoch 37, CIFAR-10 Batch 1:  Cost 0.000289 | Validation Accuracy 0.624000\n",
      "Epoch 37, CIFAR-10 Batch 2:  Cost 0.000216 | Validation Accuracy 0.627400\n",
      "Epoch 37, CIFAR-10 Batch 3:  Cost 0.000313 | Validation Accuracy 0.635600\n",
      "Epoch 37, CIFAR-10 Batch 4:  Cost 0.000191 | Validation Accuracy 0.630600\n",
      "Epoch 37, CIFAR-10 Batch 5:  Cost 0.000429 | Validation Accuracy 0.625400\n",
      "Epoch 38, CIFAR-10 Batch 1:  Cost 0.000149 | Validation Accuracy 0.632200\n",
      "Epoch 38, CIFAR-10 Batch 2:  Cost 0.000143 | Validation Accuracy 0.627800\n",
      "Epoch 38, CIFAR-10 Batch 3:  Cost 0.000081 | Validation Accuracy 0.631600\n",
      "Epoch 38, CIFAR-10 Batch 4:  Cost 0.000061 | Validation Accuracy 0.622000\n",
      "Epoch 38, CIFAR-10 Batch 5:  Cost 0.000589 | Validation Accuracy 0.626600\n",
      "Epoch 39, CIFAR-10 Batch 1:  Cost 0.000228 | Validation Accuracy 0.633000\n",
      "Epoch 39, CIFAR-10 Batch 2:  Cost 0.000291 | Validation Accuracy 0.629800\n",
      "Epoch 39, CIFAR-10 Batch 3:  Cost 0.000086 | Validation Accuracy 0.620000\n",
      "Epoch 39, CIFAR-10 Batch 4:  Cost 0.000118 | Validation Accuracy 0.623200\n",
      "Epoch 39, CIFAR-10 Batch 5:  Cost 0.000204 | Validation Accuracy 0.622000\n",
      "Epoch 40, CIFAR-10 Batch 1:  Cost 0.000278 | Validation Accuracy 0.631400\n",
      "Epoch 40, CIFAR-10 Batch 2:  Cost 0.002538 | Validation Accuracy 0.625200\n",
      "Epoch 40, CIFAR-10 Batch 3:  Cost 0.000031 | Validation Accuracy 0.636400\n",
      "Epoch 40, CIFAR-10 Batch 4:  Cost 0.000259 | Validation Accuracy 0.624800\n",
      "Epoch 40, CIFAR-10 Batch 5:  Cost 0.000103 | Validation Accuracy 0.627200\n",
      "Epoch 41, CIFAR-10 Batch 1:  Cost 0.000171 | Validation Accuracy 0.625200\n",
      "Epoch 41, CIFAR-10 Batch 2:  Cost 0.000886 | Validation Accuracy 0.630600\n",
      "Epoch 41, CIFAR-10 Batch 3:  Cost 0.000054 | Validation Accuracy 0.631600\n",
      "Epoch 41, CIFAR-10 Batch 4:  Cost 0.000886 | Validation Accuracy 0.625600\n",
      "Epoch 41, CIFAR-10 Batch 5:  Cost 0.000155 | Validation Accuracy 0.630200\n",
      "Epoch 42, CIFAR-10 Batch 1:  Cost 0.000300 | Validation Accuracy 0.629400\n",
      "Epoch 42, CIFAR-10 Batch 2:  Cost 0.000076 | Validation Accuracy 0.628800\n",
      "Epoch 42, CIFAR-10 Batch 3:  Cost 0.000050 | Validation Accuracy 0.623200\n",
      "Epoch 42, CIFAR-10 Batch 4:  Cost 0.000863 | Validation Accuracy 0.624200\n",
      "Epoch 42, CIFAR-10 Batch 5:  Cost 0.002121 | Validation Accuracy 0.626400\n",
      "Epoch 43, CIFAR-10 Batch 1:  Cost 0.000131 | Validation Accuracy 0.623000\n",
      "Epoch 43, CIFAR-10 Batch 2:  Cost 0.000266 | Validation Accuracy 0.620800\n",
      "Epoch 43, CIFAR-10 Batch 3:  Cost 0.000047 | Validation Accuracy 0.619400\n",
      "Epoch 43, CIFAR-10 Batch 4:  Cost 0.000345 | Validation Accuracy 0.626000\n",
      "Epoch 43, CIFAR-10 Batch 5:  Cost 0.000476 | Validation Accuracy 0.628400\n",
      "Epoch 44, CIFAR-10 Batch 1:  Cost 0.000407 | Validation Accuracy 0.628400\n",
      "Epoch 44, CIFAR-10 Batch 2:  Cost 0.000277 | Validation Accuracy 0.628200\n",
      "Epoch 44, CIFAR-10 Batch 3:  Cost 0.000044 | Validation Accuracy 0.614200\n",
      "Epoch 44, CIFAR-10 Batch 4:  Cost 0.000115 | Validation Accuracy 0.628600\n",
      "Epoch 44, CIFAR-10 Batch 5:  Cost 0.000326 | Validation Accuracy 0.630800\n",
      "Epoch 45, CIFAR-10 Batch 1:  Cost 0.000351 | Validation Accuracy 0.631800\n",
      "Epoch 45, CIFAR-10 Batch 2:  Cost 0.000454 | Validation Accuracy 0.629400\n"
     ]
    },
    {
     "name": "stdout",
     "output_type": "stream",
     "text": [
      "Epoch 45, CIFAR-10 Batch 3:  Cost 0.000084 | Validation Accuracy 0.628000\n",
      "Epoch 45, CIFAR-10 Batch 4:  Cost 0.000020 | Validation Accuracy 0.631600\n",
      "Epoch 45, CIFAR-10 Batch 5:  Cost 0.000225 | Validation Accuracy 0.631800\n",
      "Epoch 46, CIFAR-10 Batch 1:  Cost 0.000700 | Validation Accuracy 0.632600\n",
      "Epoch 46, CIFAR-10 Batch 2:  Cost 0.000530 | Validation Accuracy 0.628200\n",
      "Epoch 46, CIFAR-10 Batch 3:  Cost 0.000004 | Validation Accuracy 0.636600\n",
      "Epoch 46, CIFAR-10 Batch 4:  Cost 0.000011 | Validation Accuracy 0.627200\n",
      "Epoch 46, CIFAR-10 Batch 5:  Cost 0.000436 | Validation Accuracy 0.632600\n",
      "Epoch 47, CIFAR-10 Batch 1:  Cost 0.000348 | Validation Accuracy 0.635400\n",
      "Epoch 47, CIFAR-10 Batch 2:  Cost 0.000013 | Validation Accuracy 0.634400\n",
      "Epoch 47, CIFAR-10 Batch 3:  Cost 0.000056 | Validation Accuracy 0.630000\n",
      "Epoch 47, CIFAR-10 Batch 4:  Cost 0.000038 | Validation Accuracy 0.625800\n",
      "Epoch 47, CIFAR-10 Batch 5:  Cost 0.000035 | Validation Accuracy 0.633400\n",
      "Epoch 48, CIFAR-10 Batch 1:  Cost 0.000023 | Validation Accuracy 0.626800\n",
      "Epoch 48, CIFAR-10 Batch 2:  Cost 0.001596 | Validation Accuracy 0.627800\n",
      "Epoch 48, CIFAR-10 Batch 3:  Cost 0.000072 | Validation Accuracy 0.625200\n",
      "Epoch 48, CIFAR-10 Batch 4:  Cost 0.000301 | Validation Accuracy 0.634000\n",
      "Epoch 48, CIFAR-10 Batch 5:  Cost 0.000019 | Validation Accuracy 0.642400\n",
      "Epoch 49, CIFAR-10 Batch 1:  Cost 0.000082 | Validation Accuracy 0.640400\n",
      "Epoch 49, CIFAR-10 Batch 2:  Cost 0.000270 | Validation Accuracy 0.633800\n",
      "Epoch 49, CIFAR-10 Batch 3:  Cost 0.000068 | Validation Accuracy 0.626600\n",
      "Epoch 49, CIFAR-10 Batch 4:  Cost 0.000181 | Validation Accuracy 0.627600\n",
      "Epoch 49, CIFAR-10 Batch 5:  Cost 0.000503 | Validation Accuracy 0.630600\n",
      "Epoch 50, CIFAR-10 Batch 1:  Cost 0.000017 | Validation Accuracy 0.624600\n",
      "Epoch 50, CIFAR-10 Batch 2:  Cost 0.000119 | Validation Accuracy 0.626000\n",
      "Epoch 50, CIFAR-10 Batch 3:  Cost 0.000138 | Validation Accuracy 0.628400\n",
      "Epoch 50, CIFAR-10 Batch 4:  Cost 0.000050 | Validation Accuracy 0.621000\n",
      "Epoch 50, CIFAR-10 Batch 5:  Cost 0.000357 | Validation Accuracy 0.628800\n"
     ]
    }
   ],
   "source": [
    "\"\"\"\n",
    "DON'T MODIFY ANYTHING IN THIS CELL\n",
    "\"\"\"\n",
    "save_model_path = './image_classification'\n",
    "\n",
    "print('Training...')\n",
    "with tf.Session() as sess:\n",
    "    # Initializing the variables\n",
    "    sess.run(tf.global_variables_initializer())\n",
    "    \n",
    "    # Training cycle\n",
    "    for epoch in range(epochs):\n",
    "        # Loop over all batches\n",
    "        n_batches = 5\n",
    "        for batch_i in range(1, n_batches + 1):\n",
    "            for batch_features, batch_labels in helper.load_preprocess_training_batch(batch_i, batch_size):\n",
    "                train_neural_network(sess, optimizer, keep_probability, batch_features, batch_labels)\n",
    "            print('Epoch {:>2}, CIFAR-10 Batch {}:  '.format(epoch + 1, batch_i), end='')\n",
    "            print_stats(sess, batch_features, batch_labels, cost, accuracy)\n",
    "            \n",
    "    # Save Model\n",
    "    saver = tf.train.Saver()\n",
    "    save_path = saver.save(sess, save_model_path)"
   ]
  },
  {
   "cell_type": "markdown",
   "metadata": {},
   "source": [
    "# Checkpoint\n",
    "The model has been saved to disk.\n",
    "## Test Model\n",
    "Test your model against the test dataset.  This will be your final accuracy. You should have an accuracy greater than 50%. If you don't, keep tweaking the model architecture and parameters."
   ]
  },
  {
   "cell_type": "code",
   "execution_count": 20,
   "metadata": {},
   "outputs": [
    {
     "name": "stdout",
     "output_type": "stream",
     "text": [
      "INFO:tensorflow:Restoring parameters from ./image_classification\n",
      "Testing Accuracy: 0.62412109375\n",
      "\n"
     ]
    },
    {
     "data": {
      "image/png": "[encoded data removed]",
      "text/plain": [
       "<matplotlib.figure.Figure at 0x113858c88>"
      ]
     },
     "metadata": {
      "image/png": {
       "height": 319,
       "width": 355
      }
     },
     "output_type": "display_data"
    }
   ],
   "source": [
    "\"\"\"\n",
    "DON'T MODIFY ANYTHING IN THIS CELL\n",
    "\"\"\"\n",
    "%matplotlib inline\n",
    "%config InlineBackend.figure_format = 'retina'\n",
    "\n",
    "import tensorflow as tf\n",
    "import pickle\n",
    "import helper\n",
    "import random\n",
    "\n",
    "# Set batch size if not already set\n",
    "try:\n",
    "    if batch_size:\n",
    "        pass\n",
    "except NameError:\n",
    "    batch_size = 64\n",
    "\n",
    "save_model_path = './image_classification'\n",
    "n_samples = 4\n",
    "top_n_predictions = 3\n",
    "\n",
    "def test_model():\n",
    "    \"\"\"\n",
    "    Test the saved model against the test dataset\n",
    "    \"\"\"\n",
    "\n",
    "    test_features, test_labels = pickle.load(open('preprocess_test.p', mode='rb'))\n",
    "    loaded_graph = tf.Graph()\n",
    "\n",
    "    with tf.Session(graph=loaded_graph) as sess:\n",
    "        # Load model\n",
    "        loader = tf.train.import_meta_graph(save_model_path + '.meta')\n",
    "        loader.restore(sess, save_model_path)\n",
    "\n",
    "        # Get Tensors from loaded model\n",
    "        loaded_x = loaded_graph.get_tensor_by_name('x:0')\n",
    "        loaded_y = loaded_graph.get_tensor_by_name('y:0')\n",
    "        loaded_keep_prob = loaded_graph.get_tensor_by_name('keep_prob:0')\n",
    "        loaded_logits = loaded_graph.get_tensor_by_name('logits:0')\n",
    "        loaded_acc = loaded_graph.get_tensor_by_name('accuracy:0')\n",
    "        \n",
    "        # Get accuracy in batches for memory limitations\n",
    "        test_batch_acc_total = 0\n",
    "        test_batch_count = 0\n",
    "        \n",
    "        for test_feature_batch, test_label_batch in helper.batch_features_labels(test_features, test_labels, batch_size):\n",
    "            test_batch_acc_total += sess.run(\n",
    "                loaded_acc,\n",
    "                feed_dict={loaded_x: test_feature_batch, loaded_y: test_label_batch, loaded_keep_prob: 1.0})\n",
    "            test_batch_count += 1\n",
    "\n",
    "        print('Testing Accuracy: {}\\n'.format(test_batch_acc_total/test_batch_count))\n",
    "\n",
    "        # Print Random Samples\n",
    "        random_test_features, random_test_labels = tuple(zip(*random.sample(list(zip(test_features, test_labels)), n_samples)))\n",
    "        random_test_predictions = sess.run(\n",
    "            tf.nn.top_k(tf.nn.softmax(loaded_logits), top_n_predictions),\n",
    "            feed_dict={loaded_x: random_test_features, loaded_y: random_test_labels, loaded_keep_prob: 1.0})\n",
    "        helper.display_image_predictions(random_test_features, random_test_labels, random_test_predictions)\n",
    "\n",
    "\n",
    "test_model()"
   ]
  },
  {
   "cell_type": "markdown",
   "metadata": {},
   "source": [
    "## Why 50-80% Accuracy?\n",
    "You might be wondering why you can't get an accuracy any higher. First things first, 50% isn't bad for a simple CNN.  Pure guessing would get you 10% accuracy. However, you might notice people are getting scores [well above 80%](http://rodrigob.github.io/are_we_there_yet/build/classification_datasets_results.html#43494641522d3130).  That's because we haven't taught you all there is to know about neural networks. We still need to cover a few more techniques.\n",
    "## Submitting This Project\n",
    "When submitting this project, make sure to run all the cells before saving the notebook.  Save the notebook file as \"dlnd_image_classification.ipynb\" and save it as a HTML file under \"File\" -> \"Download as\".  Include the \"helper.py\" and \"problem_unittests.py\" files in your submission."
   ]
  }
 ],
 "metadata": {
  "kernelspec": {
   "display_name": "Python 3",
   "language": "python",
   "name": "python3"
  },
  "language_info": {
   "codemirror_mode": {
    "name": "ipython",
    "version": 3
   },
   "file_extension": ".py",
   "mimetype": "text/x-python",
   "name": "python",
   "nbconvert_exporter": "python",
   "pygments_lexer": "ipython3",
   "version": "3.5.4"
  }
 },
 "nbformat": 4,
 "nbformat_minor": 1
}
